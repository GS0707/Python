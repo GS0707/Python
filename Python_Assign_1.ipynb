{
 "cells": [
  {
   "cell_type": "code",
   "execution_count": 5,
   "metadata": {},
   "outputs": [
    {
     "name": "stdout",
     "output_type": "stream",
     "text": [
      "No which are divisible of 7 and multiple of 5: \n",
      "1505,1540,1575,1610,1645,1680,1715,1750,1785,1820,1855,1890,1925,1960,1995,2030,2065,2100,2135,2170,2205,2240,2275,2310,2345,2380,2415,2450,2485,2520,2555,2590,2625,2660,2695,"
     ]
    }
   ],
   "source": [
    "# Ex.1 Program to print those numbers which are divisible by 7 and multiple of 5 between 1500 and 2700.\n",
    "\n",
    "print(\"No which are divisible of 7 and multiple of 5: \")\n",
    "for i in range(1500,2701):\n",
    "    if i % 7 == 0 and i % 5 == 0:\n",
    "        print(i,end=',')"
   ]
  },
  {
   "cell_type": "code",
   "execution_count": 2,
   "metadata": {},
   "outputs": [
    {
     "name": "stdout",
     "output_type": "stream",
     "text": [
      "60 C is 140 in Fahrenheit\n",
      "45 F is 7 in Celcius\n"
     ]
    }
   ],
   "source": [
    "# Ex.2 Program to convert temp to and from celsius,fahrenheit.\n",
    "\n",
    "c,f=60,45\n",
    "cel=int((f-32)*(5/9))\n",
    "fah=int(c*(9/5)+32)\n",
    "print(c,\"C is\",fah,\"in Fahrenheit\")\n",
    "print(f,\"F is\",cel,\"in Celcius\")"
   ]
  },
  {
   "cell_type": "code",
   "execution_count": 7,
   "metadata": {},
   "outputs": [
    {
     "name": "stdout",
     "output_type": "stream",
     "text": [
      "Enter the No.1\n",
      "Enter the No.2\n",
      "Enter the No.3\n",
      "Enter the No.-1\n",
      "Enter the valid no.\n",
      "Enter the No.7\n",
      "Well guessed..!\n"
     ]
    }
   ],
   "source": [
    "# Ex.3 Program to guess a no. between 1 to 9.\n",
    "\n",
    "while(True):\n",
    "    no=int(input(\"Enter the No.\"))\n",
    "    if no>=1 and no<=9:\n",
    "        if no == 7:\n",
    "            print(\"Well guessed..!\")\n",
    "            break;\n",
    "    else:\n",
    "        print(\"Enter the valid no.\")\n",
    "      "
   ]
  },
  {
   "cell_type": "code",
   "execution_count": 26,
   "metadata": {},
   "outputs": [
    {
     "name": "stdout",
     "output_type": "stream",
     "text": [
      "\n",
      "\n",
      "* \n",
      "\n",
      "* * \n",
      "\n",
      "* * * \n",
      "\n",
      "* * * * \n",
      "\n",
      "* * * * * \n",
      "\n",
      "* * * * \n",
      "\n",
      "* * * \n",
      "\n",
      "* * \n",
      "\n",
      "* \n",
      "\n"
     ]
    }
   ],
   "source": [
    "# Ex.4 Program of pattern printing.\n",
    "\n",
    "for i in range(6):\n",
    "    for j in range(i):\n",
    "        print(\"*\",end=\" \")\n",
    "    print(\"\\n\")\n",
    "\n",
    "for i in range(4,0,-1):\n",
    "    for j in range(i):\n",
    "        print(\"*\",end=\" \")\n",
    "    print(\"\\n\")\n",
    "    \n",
    "   \n",
    "       "
   ]
  },
  {
   "cell_type": "code",
   "execution_count": 4,
   "metadata": {},
   "outputs": [
    {
     "name": "stdout",
     "output_type": "stream",
     "text": [
      "Enter the your Name: ello\n",
      "olle\n"
     ]
    }
   ],
   "source": [
    "# Ex.5 Program to accept word from user and reverse it.\n",
    "\n",
    "print(str(input(\"Enter your Name: \"))[::-1])\n"
   ]
  },
  {
   "cell_type": "code",
   "execution_count": 6,
   "metadata": {},
   "outputs": [
    {
     "name": "stdout",
     "output_type": "stream",
     "text": [
      "Even No are:  3 Odd no are:  4\n"
     ]
    }
   ],
   "source": [
    "# Ex.6 Program to count even and odd no. from series of numbers.\n",
    "\n",
    "even=0\n",
    "odd=0\n",
    "numbers=[1,2,3,4,5,6,7]\n",
    "for i in numbers:\n",
    "    if i % 2 == 0:\n",
    "        even+=1\n",
    "    else:\n",
    "        odd+=1\n",
    "print(\"Even No are: \",even,\"Odd no are: \",odd)        \n"
   ]
  },
  {
   "cell_type": "code",
   "execution_count": 14,
   "metadata": {},
   "outputs": [
    {
     "name": "stdout",
     "output_type": "stream",
     "text": [
      "1452 Type is:  <class 'int'>\n",
      "11.23 Type is:  <class 'float'>\n",
      "(1+2j) Type is:  <class 'complex'>\n",
      "True Type is:  <class 'bool'>\n",
      "ModernCollege Type is:  <class 'str'>\n",
      "(0, -1) Type is:  <class 'tuple'>\n",
      "[5, 12] Type is:  <class 'list'>\n",
      "{'Class': 'V', 'Section': 'A'} Type is:  <class 'dict'>\n"
     ]
    }
   ],
   "source": [
    "# Ex.7 Program to print type of item from given list\n",
    "\n",
    "datalist=[1452,11.23,1+2j,True,'ModernCollege',(0,-1),[5,12],{\"Class\":'V',\"Section\":'A'}]\n",
    "for i in datalist:\n",
    "    print(i,\"Type is: \",type(i))"
   ]
  },
  {
   "cell_type": "code",
   "execution_count": 15,
   "metadata": {},
   "outputs": [
    {
     "name": "stdout",
     "output_type": "stream",
     "text": [
      "0\n",
      "1\n",
      "2\n",
      "4\n",
      "5\n"
     ]
    }
   ],
   "source": [
    "# Ex.8 Program to print no. between 0 and 6 except 3 and 6.\n",
    "for i in range(7):\n",
    "    if i==3 or i==6:\n",
    "        continue\n",
    "    print(i)"
   ]
  },
  {
   "cell_type": "code",
   "execution_count": 17,
   "metadata": {},
   "outputs": [
    {
     "name": "stdout",
     "output_type": "stream",
     "text": [
      "0,1,1,2,3,5,8,13,21,34,55,89,144,233,377,610,987,1597,2584,4181,6765,10946,17711,28657,46368,75025,121393,196418,317811,514229,832040,1346269,2178309,3524578,5702887,9227465,14930352,24157817,39088169,63245986,102334155,165580141,267914296,433494437,701408733,1134903170,1836311903,2971215073,4807526976,7778742049,"
     ]
    }
   ],
   "source": [
    "# Ex.9 Program to print fibonnaci Sequence\n",
    "\n",
    "a,b=0,1\n",
    "for i in range(0,50):\n",
    "    print(a,end=',')\n",
    "    a,b=a+b,a"
   ]
  },
  {
   "cell_type": "code",
   "execution_count": 19,
   "metadata": {},
   "outputs": [
    {
     "name": "stdout",
     "output_type": "stream",
     "text": [
      "Output: \n",
      "1,2,Fizz,4,Buzz,Fizz,7,8,Fizz,Buzz,11,Fizz,13,14,FizzBuzz,16,17,Fizz,19,Buzz,Fizz,22,23,Fizz,Buzz,26,Fizz,28,29,FizzBuzz,31,32,Fizz,34,Buzz,Fizz,37,38,Fizz,Buzz,41,Fizz,43,44,FizzBuzz,46,47,Fizz,49,"
     ]
    }
   ],
   "source": [
    "# Ex.10 Program to iterate through 1 to 50 and print..\n",
    "\n",
    "print(\"Output: \")\n",
    "for i in range(1,50):\n",
    "    if i % 3  == 0 and i % 5 == 0:\n",
    "        print(\"FizzBuzz\",end=',')\n",
    "    elif i % 3 == 0:\n",
    "        print('Fizz',end=\",\")\n",
    "    elif i % 5 == 0:\n",
    "        print('Buzz',end=',')\n",
    "    else:\n",
    "        print(i,end=',')"
   ]
  },
  {
   "cell_type": "code",
   "execution_count": 2,
   "metadata": {},
   "outputs": [
    {
     "name": "stdout",
     "output_type": "stream",
     "text": [
      "Enter the Rows: 3\n",
      "Enter the column:4\n",
      "Matrix is: \n",
      "0 0 0 0 \n",
      "0 1 2 3 \n",
      "0 2 4 6 \n"
     ]
    }
   ],
   "source": [
    "# Ex.11 Program to print 2d array multiplication.\n",
    "\n",
    "matrix=[]\n",
    "rows=int(input(\"Enter the Rows: \"))\n",
    "column=int(input(\"Enter the column:\"))\n",
    "\n",
    "for i in range(rows):\n",
    "    a=[]\n",
    "    for j in range(column):\n",
    "        a.append(i*j)\n",
    "    matrix.append(a)\n",
    "\n",
    "print(\"Matrix is: \")\n",
    "for i in range(rows):\n",
    "    for j in range(column):\n",
    "        print(matrix[i][j],end=\" \")\n",
    "    print()"
   ]
  },
  {
   "cell_type": "code",
   "execution_count": 2,
   "metadata": {},
   "outputs": [
    {
     "name": "stdout",
     "output_type": "stream",
     "text": [
      "Enter the lines: Hello world\n",
      "hello world\n"
     ]
    }
   ],
   "source": [
    "# Ex.12 Program to convert lines to lowercase.\n",
    "\n",
    "str=(input(\"Enter the lines: \"))\n",
    "print(str.lower())"
   ]
  },
  {
   "cell_type": "code",
   "execution_count": 9,
   "metadata": {},
   "outputs": [
    {
     "name": "stdout",
     "output_type": "stream",
     "text": [
      "How many No. 6\n",
      "Enter the binary no. 0100\n",
      "Enter the binary no. 0011\n",
      "Enter the binary no. 1010\n",
      "Enter the binary no. 1001\n",
      "Enter the binary no. 1100\n",
      "Enter the binary no. 1001\n",
      "Divisible by 5 are: \n",
      "1010 "
     ]
    }
   ],
   "source": [
    "# Ex.13 program to print binary digit which are divisible by 5.\n",
    "\n",
    "data=[]\n",
    "n=int(input(\"How many No. \"))\n",
    "for i in range(0,n):\n",
    "    data.append(input(\"Enter the binary no. \"))\n",
    "print(\"Divisible by 5 are: \")\n",
    "for i in range(0,n):\n",
    "    if(int(data[i],2)) % 5==0:\n",
    "        print(data[i],end=\" \")\n"
   ]
  },
  {
   "cell_type": "code",
   "execution_count": 13,
   "metadata": {},
   "outputs": [
    {
     "name": "stdout",
     "output_type": "stream",
     "text": [
      "Enter the String: Python 3.2\n",
      "Letters are:  6  Digits are:  2\n"
     ]
    }
   ],
   "source": [
    "# Ex. 14 Proram to check letter and digit from the input string.\n",
    "\n",
    "str=input(\"Enter the String: \")\n",
    "d=l=0\n",
    "for i in str:\n",
    "    if i.isdigit():\n",
    "        d+=1\n",
    "    elif i.isalpha():\n",
    "        l+=1\n",
    "print(\"Letters are: \",l,\" Digits are: \",d)        "
   ]
  },
  {
   "cell_type": "code",
   "execution_count": 2,
   "metadata": {},
   "outputs": [
    {
     "name": "stdout",
     "output_type": "stream",
     "text": [
      "Enter the password:aZ6@Zg\n",
      "Valid Password\n"
     ]
    }
   ],
   "source": [
    "# Ex.15 Program to check validity of password.\n",
    "import re\n",
    "\n",
    "password=input(\"Enter the password:\")\n",
    "\n",
    "if len(password)>=6 and len(password)<=16:\n",
    "    if not re.search(\"[a-z]\",password):\n",
    "        print(\"Invalid\")\n",
    "        quit()\n",
    "    elif not re.search(\"[A-Z]\",password):\n",
    "        print(\"Invalid\")\n",
    "        quit()\n",
    "    elif not re.search(\"[0-9]\",password):\n",
    "        print(\"Invalid\")\n",
    "        quit()\n",
    "    elif not re.search(\"[$#@]\",password):\n",
    "        print(\"Invalid\")\n",
    "        quit()\n",
    "    elif re.search(\"\\s\",password):\n",
    "        print(\"Invalid\")\n",
    "        quit()\n",
    "    else:\n",
    "        print(\"Valid Password\") \n",
    "else:\n",
    "    print(\"Invalid Password\")"
   ]
  },
  {
   "cell_type": "code",
   "execution_count": 7,
   "metadata": {},
   "outputs": [
    {
     "name": "stdout",
     "output_type": "stream",
     "text": [
      "Even No. are: \n",
      "200,202,204,206,208,220,222,224,226,228,240,242,244,246,248,260,262,264,266,268,280,282,284,286,288,400,"
     ]
    }
   ],
   "source": [
    "# Ex.16 Program to even digit of number between 100 and 400.\n",
    "\n",
    "print(\"Even No. are: \")\n",
    "for i in range(100,400+1):\n",
    "    s=str(i)\n",
    "    cnt=0\n",
    "    for j in range(len(s)):\n",
    "        if int(s[j])%2==0:\n",
    "            cnt+=1\n",
    "    if(cnt==len(s)):\n",
    "        print(s,end=\",\")\n",
    "    "
   ]
  },
  {
   "cell_type": "code",
   "execution_count": 3,
   "metadata": {},
   "outputs": [
    {
     "name": "stdout",
     "output_type": "stream",
     "text": [
      "*****\n",
      "\n",
      "*   *\n",
      "\n",
      "*   *\n",
      "\n",
      "*   *\n",
      "\n",
      "*   *\n",
      "\n",
      "*   *\n",
      "\n",
      "*****\n",
      "\n"
     ]
    }
   ],
   "source": [
    "# Ex.18 Program to print D star pattern.\n",
    "\n",
    "for row in range(0,7):\n",
    "    for column in range(0,5):\n",
    "        if(row==0 or row==6 or column==0 or column==4): \n",
    "                                 print(\"*\",end=\"\")\n",
    "        else:\n",
    "                                 print(end=\" \")\n",
    "    print(\"\\n\")\n",
    "    \n",
    "            "
   ]
  },
  {
   "cell_type": "code",
   "execution_count": 7,
   "metadata": {},
   "outputs": [
    {
     "name": "stdout",
     "output_type": "stream",
     "text": [
      "*****\n",
      "\n",
      "*    \n",
      "\n",
      "*    \n",
      "\n",
      "**** \n",
      "\n",
      "*    \n",
      "\n",
      "*    \n",
      "\n",
      "*****\n",
      "\n"
     ]
    }
   ],
   "source": [
    "# Ex.19 Program to Print  E alphabet pattern.\n",
    "\n",
    "for row in range(0,7):\n",
    "    for column in range(0,5):\n",
    "        if(row==0 or row==6 or column==0) or(row==3 and column<4):\n",
    "            print(\"*\",end=\"\")\n",
    "        else:\n",
    "            print(end=\" \")\n",
    "    print(\"\\n\")"
   ]
  },
  {
   "cell_type": "code",
   "execution_count": 12,
   "metadata": {},
   "outputs": [
    {
     "name": "stdout",
     "output_type": "stream",
     "text": [
      "*    \n",
      "\n",
      "*    \n",
      "\n",
      "*    \n",
      "\n",
      "*    \n",
      "\n",
      "*    \n",
      "\n",
      "*****\n",
      "\n"
     ]
    }
   ],
   "source": [
    "# Ex.21 Program to print L alphabet pattern.\n",
    "\n",
    "for row in range(0,6):\n",
    "    for column in range(0,5):\n",
    "        if(column==0 or row==5):\n",
    "            print(\"*\",end=\"\")\n",
    "        else:\n",
    "            print(end=\" \")\n",
    "    print(\"\\n\")"
   ]
  },
  {
   "cell_type": "code",
   "execution_count": 13,
   "metadata": {},
   "outputs": [
    {
     "name": "stdout",
     "output_type": "stream",
     "text": [
      "*   *\n",
      "\n",
      "*   *\n",
      "\n",
      "** **\n",
      "\n",
      "* * *\n",
      "\n",
      "*   *\n",
      "\n",
      "*   *\n",
      "\n",
      "*   *\n",
      "\n"
     ]
    }
   ],
   "source": [
    "# Ex.22 Program to print M alphabet pattern.\n",
    "\n",
    "for row in range(0,7):\n",
    "    for column in range(0,5):\n",
    "        if(column==0 or column==4) or (row==2 and column!=2) or (row==3 and column==2):\n",
    "            print(\"*\",end=\"\")\n",
    "        else:\n",
    "            print(end=\" \")\n",
    "    print(\"\\n\")"
   ]
  },
  {
   "cell_type": "code",
   "execution_count": 35,
   "metadata": {},
   "outputs": [
    {
     "name": "stdout",
     "output_type": "stream",
     "text": [
      " *** \n",
      "\n",
      "*   *\n",
      "\n",
      "*   *\n",
      "\n",
      "*   *\n",
      "\n",
      "*   *\n",
      "\n",
      "*   *\n",
      "\n",
      " *** \n",
      "\n"
     ]
    }
   ],
   "source": [
    "# Ex.23 Program to print 0 alphabet pattern.\n",
    "\n",
    "for row in range(0,7):\n",
    "    for column in range(0,5):\n",
    "        if(((row==0 or row==6) and (column!=0 and column!=4)) or (row>0 and row<6)and(column<1 or column>3)):\n",
    "            print(\"*\",end=\"\")\n",
    "        else:\n",
    "            print(end=\" \")\n",
    "    print(\"\\n\")"
   ]
  },
  {
   "cell_type": "code",
   "execution_count": 36,
   "metadata": {},
   "outputs": [
    {
     "name": "stdout",
     "output_type": "stream",
     "text": [
      "****\n",
      "\n",
      "*  *\n",
      "\n",
      "*  *\n",
      "\n",
      "****\n",
      "\n",
      "*   \n",
      "\n",
      "*   \n",
      "\n",
      "*   \n",
      "\n"
     ]
    }
   ],
   "source": [
    "# Ex.24 Program to print P alphabet pattern.\n",
    "\n",
    "for row in range(0,7):\n",
    "    for column in range(0,4):\n",
    "        if(row==0 or row==3 or column==0 or(row>0 and row<3 and (column==0 or column==3))):\n",
    "            print(\"*\",end=\"\")\n",
    "        else:\n",
    "            print(end=\" \")\n",
    "    print(\"\\n\")"
   ]
  },
  {
   "cell_type": "code",
   "execution_count": 39,
   "metadata": {},
   "outputs": [
    {
     "name": "stdout",
     "output_type": "stream",
     "text": [
      "****\n",
      "\n",
      "*  *\n",
      "\n",
      "*  *\n",
      "\n",
      "****\n",
      "\n",
      "**  \n",
      "\n",
      "* * \n",
      "\n",
      "*  *\n",
      "\n"
     ]
    }
   ],
   "source": [
    "# Ex.25 Program to print R alphabet pattern.\n",
    "\n",
    "for row in range(0,7):\n",
    "    for column in range(0,4):\n",
    "        if(row==0 or row==3 or column==0 or (column==3 and(row>0 and row<3)) or (row==4 and column==1) or (row==5 and column==2) or (row==6 and column==3)):\n",
    "            print(\"*\",end=\"\")\n",
    "        else:\n",
    "            print(end=\" \")\n",
    "    print(\"\\n\")"
   ]
  },
  {
   "cell_type": "code",
   "execution_count": 44,
   "metadata": {},
   "outputs": [
    {
     "name": "stdout",
     "output_type": "stream",
     "text": [
      "*******\n",
      "\n",
      "   *   \n",
      "\n",
      "   *   \n",
      "\n",
      "   *   \n",
      "\n",
      "   *   \n",
      "\n",
      "   *   \n",
      "\n",
      "   *   \n",
      "\n"
     ]
    }
   ],
   "source": [
    "# Ex.27 Program to print T alphabet pattern.\n",
    "\n",
    "for row in range(0,7):\n",
    "    for column in range(0,7):\n",
    "        if(row==0 or column==3):\n",
    "            print(\"*\",end=\"\")\n",
    "        else:\n",
    "            print(end=\" \")\n",
    "    print(\"\\n\")"
   ]
  },
  {
   "cell_type": "code",
   "execution_count": 47,
   "metadata": {},
   "outputs": [
    {
     "name": "stdout",
     "output_type": "stream",
     "text": [
      "*   *\n",
      "\n",
      "*   *\n",
      "\n",
      "*   *\n",
      "\n",
      "*   *\n",
      "\n",
      "*   *\n",
      "\n",
      "*   *\n",
      "\n",
      " *** \n",
      "\n"
     ]
    }
   ],
   "source": [
    "# Ex.28 Program to print U alphabet pattern.\n",
    "\n",
    "for row in range(0,7):\n",
    "    for column in range(0,5):\n",
    "        if((row==6 and(column>0 and column<4)) or (column==0 or column==4)and row!=6):\n",
    "            print(\"*\",end=\"\")\n",
    "        else:\n",
    "            print(end=\" \")\n",
    "    print(\"\\n\")"
   ]
  },
  {
   "cell_type": "code",
   "execution_count": 7,
   "metadata": {},
   "outputs": [
    {
     "name": "stdout",
     "output_type": "stream",
     "text": [
      "*****\n",
      "\n",
      "   * \n",
      "\n",
      "  *  \n",
      "\n",
      " *   \n",
      "\n",
      "*****\n",
      "\n"
     ]
    }
   ],
   "source": [
    "# Ex.30 Program to print Z alphabet pattern.\n",
    "\n",
    "for row in range(0,5):\n",
    "    for column in range(0,5):\n",
    "        if(row==0 or row==4)or(row==1 and column==3)or(row==2 and column==2)or(row==3 and column==1):\n",
    "            print(\"*\",end=\"\")\n",
    "        else:\n",
    "            print(end=\" \")\n",
    "    print(\"\\n\")"
   ]
  },
  {
   "cell_type": "code",
   "execution_count": 8,
   "metadata": {},
   "outputs": [
    {
     "name": "stdout",
     "output_type": "stream",
     "text": [
      "Enter the alphabet: k\n",
      "Given  k is consonent\n"
     ]
    }
   ],
   "source": [
    "# Ex.32 Program to check whether alphabet is vowel or consonant.\n",
    "\n",
    "vowels=['A','E','I','O','U','a','e','i','o','u']\n",
    "alpha=input(\"Enter the alphabet: \")\n",
    "\n",
    "if alpha in vowels:\n",
    "    print(\"Given \",alpha,\"is vowel\")\n",
    "else:\n",
    "    print(\"Given \",alpha,\"is consonent\")\n"
   ]
  },
  {
   "cell_type": "code",
   "execution_count": 12,
   "metadata": {},
   "outputs": [
    {
     "name": "stdout",
     "output_type": "stream",
     "text": [
      "Enter the month: april\n",
      "No. of days: 31\n"
     ]
    }
   ],
   "source": [
    "# Ex.33 Program to print days in month.\n",
    "\n",
    "month30=['April','June','september','November']\n",
    "mon=input(\"Enter the month: \")\n",
    "\n",
    "if mon in month30:\n",
    "    print(\"No. of days: 30\")\n",
    "elif 'February' == mon:\n",
    "    print(\"No. of days: 28/29\")\n",
    "else:\n",
    "    print(\"No. of days: 31\")"
   ]
  },
  {
   "cell_type": "code",
   "execution_count": 21,
   "metadata": {},
   "outputs": [
    {
     "name": "stdout",
     "output_type": "stream",
     "text": [
      "Enter the two Numbers: 8 8\n",
      "Sum is: 20\n"
     ]
    }
   ],
   "source": [
    "# Ex.34 Program to sum of two numbers and return 20 if sum is between 15 to 20.\n",
    "\n",
    "a,b=[int(x) for x in input(\"Enter the two Numbers: \").split()]\n",
    "\n",
    "if a+b>=15 and a+b<=20:\n",
    "    print(\"Sum is: 20\")\n",
    "else:\n",
    "    print(\"Sum is: \",a+b)"
   ]
  },
  {
   "cell_type": "code",
   "execution_count": 26,
   "metadata": {},
   "outputs": [
    {
     "name": "stdout",
     "output_type": "stream",
     "text": [
      "Enter the String: 123d\n",
      "The String is not Integer\n"
     ]
    }
   ],
   "source": [
    "# Ex.35 Program to check whether string is integer or not.\n",
    "\n",
    "st=input(\"Enter the String: \")\n",
    "\n",
    "if st.isdigit():\n",
    "    print(\"The string is Digit\")\n",
    "else:\n",
    "    print(\"The String is not Integer\")"
   ]
  },
  {
   "cell_type": "code",
   "execution_count": 30,
   "metadata": {},
   "outputs": [
    {
     "name": "stdout",
     "output_type": "stream",
     "text": [
      "Enter the sides of triangle: 12 13 14\n",
      "Triangle is scalene\n"
     ]
    }
   ],
   "source": [
    "# Ex.36 Program to check triangle is equ or iso or sca.\n",
    "\n",
    "x,y,z=[int(x) for x in input(\"Enter the sides of triangle: \").split()]\n",
    "\n",
    "if x==y==z:\n",
    "    print(\"Triangle is Equilateral\")\n",
    "elif x!=y and y!=z and x!=z:\n",
    "    print(\"Triangle is scalene\")\n",
    "else:\n",
    "    print(\"Triangle is isosceles\")"
   ]
  },
  {
   "cell_type": "code",
   "execution_count": 35,
   "metadata": {},
   "outputs": [
    {
     "name": "stdout",
     "output_type": "stream",
     "text": [
      "Enter the month and day: march 21\n",
      "Season is Spring\n"
     ]
    }
   ],
   "source": [
    "# Ex.37 Program to check season for that month and day.\n",
    "\n",
    "spring=['march','aptil','may']\n",
    "summer=['june','july','august']\n",
    "autumn=['september','october','november']\n",
    "winter=['december','january','february']\n",
    "\n",
    "month,day=[x for x in input(\"Enter the month and day: \").split()]\n",
    "\n",
    "if month in spring:\n",
    "    print(\"Season is Spring\")\n",
    "elif month in summer:\n",
    "    print(\"Season is summer\")\n",
    "elif month in autumn:\n",
    "    print(\"Season is autumn\")\n",
    "elif month in winter:\n",
    "    print(\"Season is winter\")"
   ]
  },
  {
   "cell_type": "code",
   "execution_count": 6,
   "metadata": {},
   "outputs": [
    {
     "name": "stdout",
     "output_type": "stream",
     "text": [
      "Median is:  26\n"
     ]
    }
   ],
   "source": [
    "# Ex.40 Program to calculate median.\n",
    "\n",
    "l=[15,26,29]\n",
    "n=len(l)\n",
    "\n",
    "median=n//2\n",
    "print(\"Median is: \",l[median])"
   ]
  },
  {
   "cell_type": "code",
   "execution_count": 9,
   "metadata": {},
   "outputs": [
    {
     "name": "stdout",
     "output_type": "stream",
     "text": [
      "How many numbers: 3\n",
      "Enter the no.1\n",
      "Enter the no.2\n",
      "Enter the no.0\n",
      "Sum is:  3 Average:  1.5\n"
     ]
    }
   ],
   "source": [
    "# Ex.42 Program to print sum and avg of n integers.\n",
    "\n",
    "n=int(input(\"How many numbers: \"))\n",
    "\n",
    "numbers=[]\n",
    "for i in range(n):\n",
    "    j=int(input(\"Enter the no.\"))\n",
    "    if j==0:\n",
    "        break;\n",
    "    else:\n",
    "        numbers.append(j)\n",
    "print(\"Sum is: \",sum(numbers),\"Average: \",sum(numbers)/len(numbers))\n",
    "    "
   ]
  },
  {
   "cell_type": "code",
   "execution_count": 12,
   "metadata": {},
   "outputs": [
    {
     "name": "stdout",
     "output_type": "stream",
     "text": [
      "Enter the number: 6\n",
      "6 x 1 : 6\n",
      "6 x 2 : 12\n",
      "6 x 3 : 18\n",
      "6 x 4 : 24\n",
      "6 x 5 : 30\n",
      "6 x 6 : 36\n",
      "6 x 7 : 42\n",
      "6 x 8 : 48\n",
      "6 x 9 : 54\n",
      "6 x 10 : 60\n"
     ]
    }
   ],
   "source": [
    "# Ex.43 Program to print multiplication table of any number.\n",
    "\n",
    "num=int(input(\"Enter the number: \"))\n",
    "\n",
    "for i in range(1,11):\n",
    "    print(\"6 x\",i,\":\",num*i)"
   ]
  },
  {
   "cell_type": "code",
   "execution_count": 15,
   "metadata": {},
   "outputs": [
    {
     "name": "stdout",
     "output_type": "stream",
     "text": [
      "1\n",
      "\n",
      "22\n",
      "\n",
      "333\n",
      "\n",
      "4444\n",
      "\n",
      "55555\n",
      "\n",
      "666666\n",
      "\n",
      "7777777\n",
      "\n",
      "88888888\n",
      "\n",
      "999999999\n",
      "\n"
     ]
    }
   ],
   "source": [
    "# Ex.44 Program to print pattern.\n",
    "\n",
    "for i in range(1,10):\n",
    "    for j in range(i):\n",
    "        print(i,end=\"\")\n",
    "    print(\"\\n\")"
   ]
  },
  {
   "cell_type": "code",
   "execution_count": null,
   "metadata": {},
   "outputs": [],
   "source": []
  }
 ],
 "metadata": {
  "kernelspec": {
   "display_name": "Python 3",
   "language": "python",
   "name": "python3"
  },
  "language_info": {
   "codemirror_mode": {
    "name": "ipython",
    "version": 3
   },
   "file_extension": ".py",
   "mimetype": "text/x-python",
   "name": "python",
   "nbconvert_exporter": "python",
   "pygments_lexer": "ipython3",
   "version": "3.7.6"
  }
 },
 "nbformat": 4,
 "nbformat_minor": 4
}
