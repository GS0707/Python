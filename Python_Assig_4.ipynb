{
 "cells": [
  {
   "cell_type": "code",
   "execution_count": 4,
   "metadata": {},
   "outputs": [
    {
     "name": "stdout",
     "output_type": "stream",
     "text": [
      "How many items in dictionary: 2\n",
      "Enter the key: 1\n",
      "Enter the value: as\n",
      "Enter the key: 2\n",
      "Enter the value: df\n",
      "Dictionary is \n",
      " {1: 'as', 2: 'df'}\n"
     ]
    }
   ],
   "source": [
    "# Ex.1 Add key value pair to dictionary.\n",
    "\n",
    "n=int(input('How many items in dictionary: '))\n",
    "dic={}\n",
    "\n",
    "for i in range(n):\n",
    "    key=int(input(\"Enter the key: \"))\n",
    "    dic[key]=input(\"Enter the value: \")\n",
    "\n",
    "print(\"Dictionary is \\n\",dic)"
   ]
  },
  {
   "cell_type": "code",
   "execution_count": 9,
   "metadata": {},
   "outputs": [
    {
     "name": "stdout",
     "output_type": "stream",
     "text": [
      "Before concatenating two dictionary:  {'1': 'ABC', '2': 'PQR'} {'a': 101, 'b': 102}\n",
      "\n",
      " After concatenating two dictionary:  {'a': 101, 'b': 102, '1': 'ABC', '2': 'PQR'}\n"
     ]
    }
   ],
   "source": [
    "# Ex.2 Concatenate two dictionaries into one.\n",
    "\n",
    "d1={'1':'ABC','2':'PQR'}\n",
    "d2={'a':101,'b':102}\n",
    "\n",
    "print(\"Before concatenating two dictionary: \",d1,d2)\n",
    "d2.update(d1)\n",
    "print(\"\\n After concatenating two dictionary: \",d2)"
   ]
  },
  {
   "cell_type": "code",
   "execution_count": 11,
   "metadata": {},
   "outputs": [
    {
     "name": "stdout",
     "output_type": "stream",
     "text": [
      "Enter the key: 0\n",
      "Given key is not present\n"
     ]
    }
   ],
   "source": [
    "# Ex.3 Check given key exist in dictionary or not.\n",
    "\n",
    "d1={1:\"ABC\",2:\"XYZ\",3:\"PQR\"}\n",
    "\n",
    "key=int(input(\"Enter the key: \"))\n",
    "\n",
    "if key in d1.keys():\n",
    "    print(\"Given key is present\")\n",
    "else:\n",
    "    print(\"Given key is not present\")"
   ]
  },
  {
   "cell_type": "code",
   "execution_count": 12,
   "metadata": {},
   "outputs": [
    {
     "name": "stdout",
     "output_type": "stream",
     "text": [
      "Enter the N: 4\n",
      "Dictionary in form(x,x*x):  {1: 1, 2: 4, 3: 9}\n"
     ]
    }
   ],
   "source": [
    "# Ex.4 To generate the dictionary that containe numbers in the form of(x,x*x).\n",
    "\n",
    "n=int(input(\"Enter the N: \"))\n",
    "\n",
    "dic={}\n",
    "for i in range(1,n):\n",
    "    dic[i]=i*i\n",
    "\n",
    "print(\"Dictionary in form(x,x*x): \",dic)"
   ]
  },
  {
   "cell_type": "code",
   "execution_count": 14,
   "metadata": {},
   "outputs": [
    {
     "name": "stdout",
     "output_type": "stream",
     "text": [
      "How many items in dictionary: 3\n",
      "Enter the key: a\n",
      "Enter the value: 101\n",
      "Enter the key: b\n",
      "Enter the value: 100\n",
      "Enter the key: c\n",
      "Enter the value: 102\n",
      "Sum is:  303\n"
     ]
    }
   ],
   "source": [
    "# Ex.5 Sum all the items in dictionary.\n",
    "\n",
    "n=int(input(\"How many items in dictionary: \"))\n",
    "\n",
    "dic={}\n",
    "\n",
    "for i in range(n):\n",
    "    key=input(\"Enter the key: \")\n",
    "    dic[key]=int(input(\"Enter the value: \"))\n",
    "\n",
    "print(\"Sum is: \",sum(dic.values()))"
   ]
  },
  {
   "cell_type": "code",
   "execution_count": 16,
   "metadata": {},
   "outputs": [
    {
     "name": "stdout",
     "output_type": "stream",
     "text": [
      "How many items in dictionary: 3\n",
      "Enter the key: a\n",
      "Enter the value: 2\n",
      "Enter the key: b\n",
      "Enter the value: 3\n",
      "Enter the key: c\n",
      "Enter the value: 4\n",
      "Multiplication is:  24\n"
     ]
    }
   ],
   "source": [
    "# Ex.6 Multiply all items in dictionary.\n",
    "\n",
    "n=int(input(\"How many items in dictionary: \"))\n",
    "\n",
    "dic={}\n",
    "\n",
    "for i in range(n):\n",
    "    key=input(\"Enter the key: \")\n",
    "    dic[key]=int(input(\"Enter the value: \"))\n",
    "\n",
    "m=1\n",
    "for i in dic.values():\n",
    "    m*=i\n",
    "print(\"Multiplication is: \",m)\n",
    "    "
   ]
  },
  {
   "cell_type": "code",
   "execution_count": 18,
   "metadata": {},
   "outputs": [
    {
     "name": "stdout",
     "output_type": "stream",
     "text": [
      "How many items in dictionary: 3\n",
      "Enter the key: 1\n",
      "Enter the value: abc\n",
      "Enter the key: 2\n",
      "Enter the value: xyz\n",
      "Enter the key: 3\n",
      "Enter the value: pqr\n",
      "Enter the key: 2\n",
      "After removing dictionary is:  {1: 'abc', 3: 'pqr'}\n"
     ]
    }
   ],
   "source": [
    "# Ex.7 Remove given key from dictionary.\n",
    "\n",
    "n=int(input(\"How many items in dictionary: \"))\n",
    "\n",
    "dic={}\n",
    "\n",
    "for i in range(n):\n",
    "    key=int(input(\"Enter the key: \"))\n",
    "    dic[key]=input(\"Enter the value: \")\n",
    "\n",
    "key=int(input(\"Enter the key: \"))\n",
    "\n",
    "dic.pop(key)\n",
    "print(\"After removing dictionary is: \",dic)\n"
   ]
  },
  {
   "cell_type": "code",
   "execution_count": 21,
   "metadata": {},
   "outputs": [
    {
     "name": "stdout",
     "output_type": "stream",
     "text": [
      "Dictionary using object:  {'a': 101, 'b': 102, 'c': 103}\n"
     ]
    }
   ],
   "source": [
    "# Ex.8 Form a dictionary using object of class.\n",
    "\n",
    "class M():\n",
    "    def __init__(self):\n",
    "        self.a=101\n",
    "        self.b=102\n",
    "        self.c=103\n",
    "\n",
    "t=M()\n",
    "print(\"Dictionary using object: \",t.__dict__)  # using __dict__ method"
   ]
  },
  {
   "cell_type": "code",
   "execution_count": 23,
   "metadata": {},
   "outputs": [
    {
     "name": "stdout",
     "output_type": "stream",
     "text": [
      "Enter the 1st list: 101 102 103\n",
      "Enter the 2nd list: ABC PQR XYZ\n",
      "After map:  {'101': 'ABC', '102': 'PQR', '103': 'XYZ'}\n"
     ]
    }
   ],
   "source": [
    "# Ex.9 Map 2 list into dictionary.\n",
    "\n",
    "l1=input(\"Enter the 1st list: \").split()\n",
    "\n",
    "l2=input(\"Enter the 2nd list: \").split()\n",
    "\n",
    "print(\"After map: \",dict(zip(l1,l2)))"
   ]
  },
  {
   "cell_type": "code",
   "execution_count": 24,
   "metadata": {},
   "outputs": [
    {
     "name": "stdout",
     "output_type": "stream",
     "text": [
      "Enter the list: abc xyz pqr pqr xyz\n",
      "Dictionary is:  {'abc': 1, 'xyz': 2, 'pqr': 2}\n"
     ]
    }
   ],
   "source": [
    "# Ex.10 Count words in string using dictionary.\n",
    "\n",
    "l1=input(\"Enter the list: \").split()\n",
    "\n",
    "cn=[l1.count(p) for p in l1]\n",
    "print(\"Dictionary is: \",dict(zip(l1,cn)))"
   ]
  },
  {
   "cell_type": "code",
   "execution_count": 25,
   "metadata": {},
   "outputs": [
    {
     "name": "stdout",
     "output_type": "stream",
     "text": [
      "How many items in dictionary:3\n",
      "Enter the value: hello\n",
      "Enter the value: modern\n",
      "Enter the value: college\n",
      "Dictionary is:  {'h': 'hello', 'm': 'modern', 'c': 'college'}\n"
     ]
    }
   ],
   "source": [
    "# Ex.11 Program to create dictionary with key as 1st character and values with that character.\n",
    "\n",
    "n=int(input(\"How many items in dictionary:\"))\n",
    "\n",
    "dic={}\n",
    "\n",
    "for i in range(n):\n",
    "        st=input(\"Enter the value: \")\n",
    "        dic[st[0]]=st\n",
    "print(\"Dictionary is: \",dic)"
   ]
  }
 ],
 "metadata": {
  "kernelspec": {
   "display_name": "Python 3",
   "language": "python",
   "name": "python3"
  },
  "language_info": {
   "codemirror_mode": {
    "name": "ipython",
    "version": 3
   },
   "file_extension": ".py",
   "mimetype": "text/x-python",
   "name": "python",
   "nbconvert_exporter": "python",
   "pygments_lexer": "ipython3",
   "version": "3.7.6"
  }
 },
 "nbformat": 4,
 "nbformat_minor": 4
}
