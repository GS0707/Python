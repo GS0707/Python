{
 "cells": [
  {
   "cell_type": "code",
   "execution_count": 4,
   "metadata": {},
   "outputs": [
    {
     "name": "stdout",
     "output_type": "stream",
     "text": [
      "Enter the No.7\n",
      "7 is odd\n"
     ]
    }
   ],
   "source": [
    "# Ex.1 Given No. is even or Odd.\n",
    "\n",
    "def is_even(n):\n",
    "    if n<2:\n",
    "        return(n%2==0)\n",
    "    else:\n",
    "        return(is_even(n-2))\n",
    "\n",
    "n=int(input(\"Enter the No.\"))\n",
    "if(is_even==True):\n",
    "    print(n,\" is even\")\n",
    "else:\n",
    "    print(n,\"is odd\")"
   ]
  },
  {
   "cell_type": "code",
   "execution_count": 6,
   "metadata": {},
   "outputs": [
    {
     "name": "stdout",
     "output_type": "stream",
     "text": [
      "Enter the String: hello\n",
      "Enter the Letter: l\n",
      "Occurance of  l in string is:  2\n"
     ]
    }
   ],
   "source": [
    "# Ex.2 How many times given letter occurs in string.\n",
    "\n",
    "def present(st,l):\n",
    "    if not st:\n",
    "        return 0\n",
    "    elif (st[0]==l):\n",
    "        return 1+present(st[1:],l)\n",
    "    else:\n",
    "        return present(st[1:],l)\n",
    "    \n",
    "st=input(\"Enter the String: \")\n",
    "    \n",
    "l=input(\"Enter the Letter: \")\n",
    "\n",
    "print(\"Occurance of \",l,\"in string is: \",present(st,l))\n"
   ]
  },
  {
   "cell_type": "code",
   "execution_count": 9,
   "metadata": {},
   "outputs": [
    {
     "name": "stdout",
     "output_type": "stream",
     "text": [
      "Enter te N: 5\n",
      "fibonacci series is: \n",
      "0\n",
      "1\n",
      "1\n",
      "2\n",
      "3\n"
     ]
    }
   ],
   "source": [
    "# Ex.3 Fibonacci series.\n",
    "\n",
    "def fib(n):\n",
    "    if n<=1:\n",
    "        return n\n",
    "    else:\n",
    "        return(fib(n-1)+fib(n-2)) \n",
    "\n",
    "n=int(input(\"Enter te N: \"))\n",
    "\n",
    "print(\"fibonacci series is: \")\n",
    "for i in range(n):\n",
    "    print(fib(i))"
   ]
  },
  {
   "cell_type": "code",
   "execution_count": 12,
   "metadata": {},
   "outputs": [
    {
     "name": "stdout",
     "output_type": "stream",
     "text": [
      "Enter the No. 4\n",
      "Factorial is: 10\n"
     ]
    }
   ],
   "source": [
    "# Ex.4 Factorial No.\n",
    "\n",
    "def fact(n):\n",
    "    if n<=1:\n",
    "        return 1\n",
    "    else:\n",
    "        return n*fact(n-1)\n",
    "    \n",
    "n=int(input(\"Enter the No. \"))\n",
    "print(\"Factorial is:\",fact(n))"
   ]
  },
  {
   "cell_type": "code",
   "execution_count": 19,
   "metadata": {},
   "outputs": [
    {
     "name": "stdout",
     "output_type": "stream",
     "text": [
      "Enter the list: 1 2 3\n",
      "Sum is:  6\n"
     ]
    }
   ],
   "source": [
    "# Ex.5 sum of list.\n",
    "\n",
    "def suml(l,n):\n",
    "    if n==0:\n",
    "         return 0\n",
    "    else:\n",
    "        return(l[n-1]+suml(l,n-1))\n",
    "        \n",
    "    \n",
    "l=[int(x) for x in input(\"Enter the list: \").split()]\n",
    "\n",
    "print(\"Sum is: \",suml(l,len(l)))"
   ]
  },
  {
   "cell_type": "code",
   "execution_count": 1,
   "metadata": {},
   "outputs": [
    {
     "name": "stdout",
     "output_type": "stream",
     "text": [
      "Enter N : 7\n",
      "Binary of 7  : \n",
      "111"
     ]
    }
   ],
   "source": [
    "# Ex.6. Python Program to Find the Binary Equivalent of a Number Recursively\n",
    "\n",
    "l1 = []\n",
    "def getBin(n):\n",
    "    if n==0:\n",
    "        return str\n",
    "    num = n%2\n",
    "    l1.append(num)\n",
    "    getBin(n//2)\n",
    "\n",
    "n = int(input(\"Enter N : \"))\n",
    "getBin(n)\n",
    "l1.reverse()\n",
    "print(\"Binary of\",n,\" : \")\n",
    "for i in l1:\n",
    "    print(i,end=\"\")"
   ]
  },
  {
   "cell_type": "code",
   "execution_count": 23,
   "metadata": {},
   "outputs": [
    {
     "name": "stdout",
     "output_type": "stream",
     "text": [
      "Enter the digit123\n",
      "Sum is:  6\n"
     ]
    }
   ],
   "source": [
    "# Ex.7 sum of digits.\n",
    "\n",
    "def dsum(d,l):\n",
    "    if l==0:\n",
    "        return 0\n",
    "    else:\n",
    "        return (int(d[l-1])+dsum(d,l-1))\n",
    "\n",
    "d=input(\"Enter the digit:\")\n",
    "\n",
    "print(\"Sum is: \",dsum(d,len(d)))"
   ]
  },
  {
   "cell_type": "code",
   "execution_count": null,
   "metadata": {},
   "outputs": [],
   "source": [
    "# Ex.8 \n"
   ]
  },
  {
   "cell_type": "code",
   "execution_count": null,
   "metadata": {},
   "outputs": [],
   "source": [
    "# Ex.9"
   ]
  },
  {
   "cell_type": "code",
   "execution_count": 2,
   "metadata": {},
   "outputs": [
    {
     "name": "stdout",
     "output_type": "stream",
     "text": [
      "Enter Number : 13\n",
      "Prime\n"
     ]
    }
   ],
   "source": [
    "# Ex.10 Python Program to Find if a Number is Prime or Not Prime Using Recursion\n",
    "\n",
    "def isPrime(n, i = 2):\n",
    "    if (n < 2): \n",
    "        if(n == 2):\n",
    "            return True \n",
    "        else:\n",
    "            return False\n",
    "    if (n % i == 0): \n",
    "        return False\n",
    "    if (i * i > n): \n",
    "        return True \n",
    "    return isPrime(n, i + 1)   \n",
    "\n",
    "n = int(input(\"Enter Number : \"))\n",
    "if (isPrime(n)): \n",
    "    print(\"Prime\") \n",
    "else: \n",
    "    print(\"Not Prime\") "
   ]
  },
  {
   "cell_type": "code",
   "execution_count": 3,
   "metadata": {},
   "outputs": [
    {
     "name": "stdout",
     "output_type": "stream",
     "text": [
      "Enter A : 4\n",
      "Enter B : 5\n",
      "20\n"
     ]
    }
   ],
   "source": [
    "# Ex.11 Python Program to Find the Product of two Numbers Using Recursion\n",
    "\n",
    "def getProduct(a,b):\n",
    "    if b==1:\n",
    "        return a\n",
    "    return a+getProduct(a,b-1)\n",
    "a = int(input(\"Enter A : \"))\n",
    "b = int(input(\"Enter B : \"))\n",
    "print(getProduct(a,b))"
   ]
  },
  {
   "cell_type": "code",
   "execution_count": 4,
   "metadata": {},
   "outputs": [
    {
     "name": "stdout",
     "output_type": "stream",
     "text": [
      "Enter A : 2 \n",
      "Enter B : 3\n",
      "8\n"
     ]
    }
   ],
   "source": [
    "# Ex.12 Python Program to Find the Power of a Number Using Recursion\n",
    "\n",
    "def getPower(a,b):\n",
    "    if b==1:\n",
    "        return a\n",
    "    return a*getPower(a,b-1)\n",
    "a = int(input(\"Enter A : \"))\n",
    "b = int(input(\"Enter B : \"))\n",
    "print(getPower(a,b))"
   ]
  },
  {
   "cell_type": "code",
   "execution_count": 5,
   "metadata": {},
   "outputs": [
    {
     "name": "stdout",
     "output_type": "stream",
     "text": [
      "Enter String : hello\n",
      "Not Palindrome!\n"
     ]
    }
   ],
   "source": [
    "# Ex.13 Python Program to Check Whether a String is a Palindrome or not Using Recursion\n",
    "\n",
    "def checkPalindrome(str1):\n",
    "    if len(str1) == 1 :\n",
    "        return True\n",
    "    else:\n",
    "        if str1[0] == str1[-1]:\n",
    "            return checkPalindrome(str1[1:-1])\n",
    "        return False\n",
    "str1 = input(\"Enter String : \")\n",
    "check = checkPalindrome(str1)\n",
    "if check == True:\n",
    "    print(\"Palindrome!\")\n",
    "else:\n",
    "    print(\"Not Palindrome!\")    "
   ]
  },
  {
   "cell_type": "code",
   "execution_count": 6,
   "metadata": {},
   "outputs": [
    {
     "name": "stdout",
     "output_type": "stream",
     "text": [
      "Enter String : Modern\n",
      "nredoM"
     ]
    }
   ],
   "source": [
    "# Ex.14 Python Program to Reverse a String Using Recursion\n",
    "\n",
    "l1 = []\n",
    "def getReverse(str1):\n",
    "    if len(str1) > 0:\n",
    "        l1.append(str1[-1])\n",
    "        return getReverse(str1[:-1])\n",
    "    return l1\n",
    "str1 = input(\"Enter String : \")\n",
    "getReverse(str1)\n",
    "for i in l1:\n",
    "    print(i,end=\"\")"
   ]
  },
  {
   "cell_type": "code",
   "execution_count": null,
   "metadata": {},
   "outputs": [],
   "source": [
    "# Ex.17 Python Program to Find the Length of a List Using Recursion\n",
    "\n"
   ]
  }
 ],
 "metadata": {
  "kernelspec": {
   "display_name": "Python 3",
   "language": "python",
   "name": "python3"
  },
  "language_info": {
   "codemirror_mode": {
    "name": "ipython",
    "version": 3
   },
   "file_extension": ".py",
   "mimetype": "text/x-python",
   "name": "python",
   "nbconvert_exporter": "python",
   "pygments_lexer": "ipython3",
   "version": "3.7.6"
  }
 },
 "nbformat": 4,
 "nbformat_minor": 4
}
